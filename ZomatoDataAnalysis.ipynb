{
 "cells": [
  {
   "cell_type": "markdown",
   "id": "102eb582-fa4b-4fc0-88da-05390401ce0f",
   "metadata": {},
   "source": [
    "Zomato Data Analysis"
   ]
  },
  {
   "cell_type": "code",
   "execution_count": 2,
   "id": "a0b61530-b98f-4cec-adb2-fd42a6322cb8",
   "metadata": {},
   "outputs": [],
   "source": [
    "import pandas as pd\n",
    "import numpy as np\n",
    "import seaborn as sns\n",
    "import matplotlib.pyplot as mp"
   ]
  },
  {
   "cell_type": "code",
   "execution_count": 2,
   "id": "4047fb1f-d758-4d65-9c7e-921fec81dcdc",
   "metadata": {},
   "outputs": [
    {
     "name": "stdout",
     "output_type": "stream",
     "text": [
      "Collecting scikit-learn\n",
      "  Downloading scikit_learn-1.6.1-cp312-cp312-win_amd64.whl.metadata (15 kB)\n",
      "Requirement already satisfied: numpy>=1.19.5 in c:\\users\\tanmay\\appdata\\local\\programs\\python\\python312\\lib\\site-packages (from scikit-learn) (1.26.4)\n",
      "Collecting scipy>=1.6.0 (from scikit-learn)\n",
      "  Downloading scipy-1.15.2-cp312-cp312-win_amd64.whl.metadata (60 kB)\n",
      "Collecting joblib>=1.2.0 (from scikit-learn)\n",
      "  Downloading joblib-1.4.2-py3-none-any.whl.metadata (5.4 kB)\n",
      "Collecting threadpoolctl>=3.1.0 (from scikit-learn)\n",
      "  Downloading threadpoolctl-3.5.0-py3-none-any.whl.metadata (13 kB)\n",
      "Downloading scikit_learn-1.6.1-cp312-cp312-win_amd64.whl (11.1 MB)\n",
      "   ---------------------------------------- 0.0/11.1 MB ? eta -:--:--\n",
      "   ---------------------------------------- 0.0/11.1 MB ? eta -:--:--\n",
      "   -- ------------------------------------- 0.8/11.1 MB 3.7 MB/s eta 0:00:03\n",
      "   ---- ----------------------------------- 1.3/11.1 MB 3.5 MB/s eta 0:00:03\n",
      "   ------ --------------------------------- 1.8/11.1 MB 2.8 MB/s eta 0:00:04\n",
      "   --------- ------------------------------ 2.6/11.1 MB 3.4 MB/s eta 0:00:03\n",
      "   ------------- -------------------------- 3.7/11.1 MB 3.4 MB/s eta 0:00:03\n",
      "   ---------------- ----------------------- 4.5/11.1 MB 3.4 MB/s eta 0:00:02\n",
      "   ------------------ --------------------- 5.2/11.1 MB 3.5 MB/s eta 0:00:02\n",
      "   ---------------------- ----------------- 6.3/11.1 MB 3.7 MB/s eta 0:00:02\n",
      "   ------------------------- -------------- 7.1/11.1 MB 3.7 MB/s eta 0:00:02\n",
      "   ---------------------------- ----------- 7.9/11.1 MB 3.6 MB/s eta 0:00:01\n",
      "   ------------------------------ --------- 8.4/11.1 MB 3.6 MB/s eta 0:00:01\n",
      "   --------------------------------- ------ 9.2/11.1 MB 3.6 MB/s eta 0:00:01\n",
      "   --------------------------------- ------ 9.4/11.1 MB 3.4 MB/s eta 0:00:01\n",
      "   ---------------------------------- ----- 9.7/11.1 MB 3.3 MB/s eta 0:00:01\n",
      "   ------------------------------------- -- 10.5/11.1 MB 3.3 MB/s eta 0:00:01\n",
      "   -------------------------------------- - 10.7/11.1 MB 3.1 MB/s eta 0:00:01\n",
      "   ---------------------------------------- 11.1/11.1 MB 3.1 MB/s eta 0:00:00\n",
      "Downloading joblib-1.4.2-py3-none-any.whl (301 kB)\n",
      "Downloading scipy-1.15.2-cp312-cp312-win_amd64.whl (40.9 MB)\n",
      "   ---------------------------------------- 0.0/40.9 MB ? eta -:--:--\n",
      "   ---------------------------------------- 0.0/40.9 MB ? eta -:--:--\n",
      "   ---------------------------------------- 0.3/40.9 MB ? eta -:--:--\n",
      "   - -------------------------------------- 1.0/40.9 MB 3.1 MB/s eta 0:00:13\n",
      "   - -------------------------------------- 1.6/40.9 MB 2.7 MB/s eta 0:00:15\n",
      "   -- ------------------------------------- 2.1/40.9 MB 2.7 MB/s eta 0:00:15\n",
      "   --- ------------------------------------ 3.1/40.9 MB 3.2 MB/s eta 0:00:12\n",
      "   --- ------------------------------------ 3.9/40.9 MB 3.3 MB/s eta 0:00:12\n",
      "   ---- ----------------------------------- 4.7/40.9 MB 3.4 MB/s eta 0:00:11\n",
      "   ----- ---------------------------------- 5.2/40.9 MB 3.4 MB/s eta 0:00:11\n",
      "   ----- ---------------------------------- 6.0/40.9 MB 3.4 MB/s eta 0:00:11\n",
      "   ------ --------------------------------- 6.8/40.9 MB 3.4 MB/s eta 0:00:10\n",
      "   ------- -------------------------------- 7.3/40.9 MB 3.4 MB/s eta 0:00:10\n",
      "   ------- -------------------------------- 8.1/40.9 MB 3.4 MB/s eta 0:00:10\n",
      "   -------- ------------------------------- 9.2/40.9 MB 3.5 MB/s eta 0:00:10\n",
      "   --------- ------------------------------ 10.0/40.9 MB 3.5 MB/s eta 0:00:09\n",
      "   ---------- ----------------------------- 10.5/40.9 MB 3.5 MB/s eta 0:00:09\n",
      "   ----------- ---------------------------- 11.5/40.9 MB 3.5 MB/s eta 0:00:09\n",
      "   ----------- ---------------------------- 12.1/40.9 MB 3.5 MB/s eta 0:00:09\n",
      "   ------------ --------------------------- 12.8/40.9 MB 3.5 MB/s eta 0:00:08\n",
      "   ------------ --------------------------- 13.1/40.9 MB 3.4 MB/s eta 0:00:09\n",
      "   ------------- -------------------------- 13.6/40.9 MB 3.4 MB/s eta 0:00:08\n",
      "   ------------- -------------------------- 14.2/40.9 MB 3.3 MB/s eta 0:00:09\n",
      "   -------------- ------------------------- 14.9/40.9 MB 3.3 MB/s eta 0:00:08\n",
      "   --------------- ------------------------ 15.7/40.9 MB 3.3 MB/s eta 0:00:08\n",
      "   ---------------- ----------------------- 16.5/40.9 MB 3.4 MB/s eta 0:00:08\n",
      "   ---------------- ----------------------- 17.3/40.9 MB 3.4 MB/s eta 0:00:08\n",
      "   ----------------- ---------------------- 18.1/40.9 MB 3.4 MB/s eta 0:00:07\n",
      "   ------------------ --------------------- 18.6/40.9 MB 3.3 MB/s eta 0:00:07\n",
      "   ------------------ --------------------- 19.4/40.9 MB 3.4 MB/s eta 0:00:07\n",
      "   ------------------- -------------------- 20.4/40.9 MB 3.4 MB/s eta 0:00:06\n",
      "   -------------------- ------------------- 21.2/40.9 MB 3.4 MB/s eta 0:00:06\n",
      "   --------------------- ------------------ 22.0/40.9 MB 3.5 MB/s eta 0:00:06\n",
      "   ---------------------- ----------------- 22.8/40.9 MB 3.5 MB/s eta 0:00:06\n",
      "   ---------------------- ----------------- 23.1/40.9 MB 3.4 MB/s eta 0:00:06\n",
      "   ----------------------- ---------------- 23.9/40.9 MB 3.4 MB/s eta 0:00:06\n",
      "   ----------------------- ---------------- 24.4/40.9 MB 3.4 MB/s eta 0:00:05\n",
      "   ------------------------ --------------- 25.2/40.9 MB 3.4 MB/s eta 0:00:05\n",
      "   ------------------------- -------------- 26.0/40.9 MB 3.4 MB/s eta 0:00:05\n",
      "   ------------------------- -------------- 26.0/40.9 MB 3.4 MB/s eta 0:00:05\n",
      "   ------------------------- -------------- 26.5/40.9 MB 3.3 MB/s eta 0:00:05\n",
      "   -------------------------- ------------- 26.7/40.9 MB 3.3 MB/s eta 0:00:05\n",
      "   -------------------------- ------------- 26.7/40.9 MB 3.3 MB/s eta 0:00:05\n",
      "   -------------------------- ------------- 26.7/40.9 MB 3.3 MB/s eta 0:00:05\n",
      "   -------------------------- ------------- 26.7/40.9 MB 3.3 MB/s eta 0:00:05\n",
      "   -------------------------- ------------- 26.7/40.9 MB 3.3 MB/s eta 0:00:05\n",
      "   -------------------------- ------------- 27.5/40.9 MB 3.0 MB/s eta 0:00:05\n",
      "   --------------------------- ------------ 28.3/40.9 MB 3.0 MB/s eta 0:00:05\n",
      "   --------------------------- ------------ 28.6/40.9 MB 3.0 MB/s eta 0:00:05\n",
      "   ---------------------------- ----------- 28.8/40.9 MB 3.0 MB/s eta 0:00:05\n",
      "   ---------------------------- ----------- 29.4/40.9 MB 2.9 MB/s eta 0:00:04\n",
      "   ----------------------------- ---------- 29.9/40.9 MB 2.9 MB/s eta 0:00:04\n",
      "   ----------------------------- ---------- 30.7/40.9 MB 2.9 MB/s eta 0:00:04\n",
      "   ------------------------------ --------- 31.5/40.9 MB 2.9 MB/s eta 0:00:04\n",
      "   ------------------------------- -------- 32.0/40.9 MB 2.9 MB/s eta 0:00:04\n",
      "   -------------------------------- ------- 32.8/40.9 MB 3.0 MB/s eta 0:00:03\n",
      "   --------------------------------- ------ 33.8/40.9 MB 3.0 MB/s eta 0:00:03\n",
      "   --------------------------------- ------ 34.6/40.9 MB 3.0 MB/s eta 0:00:03\n",
      "   ---------------------------------- ----- 35.4/40.9 MB 3.0 MB/s eta 0:00:02\n",
      "   ----------------------------------- ---- 36.2/40.9 MB 3.0 MB/s eta 0:00:02\n",
      "   ------------------------------------ --- 37.2/40.9 MB 3.0 MB/s eta 0:00:02\n",
      "   ------------------------------------- -- 38.0/40.9 MB 3.1 MB/s eta 0:00:01\n",
      "   ------------------------------------- -- 38.8/40.9 MB 3.1 MB/s eta 0:00:01\n",
      "   -------------------------------------- - 39.8/40.9 MB 3.1 MB/s eta 0:00:01\n",
      "   ---------------------------------------  40.4/40.9 MB 3.1 MB/s eta 0:00:01\n",
      "   ---------------------------------------- 40.9/40.9 MB 3.1 MB/s eta 0:00:00\n",
      "Downloading threadpoolctl-3.5.0-py3-none-any.whl (18 kB)\n",
      "Installing collected packages: threadpoolctl, scipy, joblib, scikit-learn\n",
      "Successfully installed joblib-1.4.2 scikit-learn-1.6.1 scipy-1.15.2 threadpoolctl-3.5.0\n",
      "Note: you may need to restart the kernel to use updated packages.\n"
     ]
    },
    {
     "name": "stderr",
     "output_type": "stream",
     "text": [
      "\n",
      "[notice] A new release of pip is available: 25.0 -> 25.0.1\n",
      "[notice] To update, run: python.exe -m pip install --upgrade pip\n"
     ]
    }
   ],
   "source": [
    "pip install scikit-learn"
   ]
  },
  {
   "cell_type": "code",
   "execution_count": 62,
   "id": "666f437c-178d-4f98-a22a-71aaf47a734b",
   "metadata": {},
   "outputs": [],
   "source": [
    "from sklearn.model_selection import train_test_split\n",
    "from sklearn.tree import DecisionTreeClassifier\n",
    "from sklearn.ensemble import RandomForestClassifier\n",
    "from sklearn.linear_model import LogisticRegression\n",
    "from sklearn.naive_bayes import GaussianNB\n",
    "from sklearn.svm import SVC\n",
    "from sklearn.metrics import accuracy_score, classification_report\n",
    "from sklearn.model_selection import GridSearchCV"
   ]
  },
  {
   "cell_type": "code",
   "execution_count": 4,
   "id": "7bfbf85f-3ce4-4a3c-a946-8dd2c2d57b0f",
   "metadata": {},
   "outputs": [],
   "source": [
    "df = pd.read_csv(\"Zomato data .csv\")"
   ]
  },
  {
   "cell_type": "code",
   "execution_count": 10,
   "id": "6b412289-5a19-4c21-93d2-07dff3f1baab",
   "metadata": {},
   "outputs": [
    {
     "data": {
      "text/html": [
       "<div>\n",
       "<style scoped>\n",
       "    .dataframe tbody tr th:only-of-type {\n",
       "        vertical-align: middle;\n",
       "    }\n",
       "\n",
       "    .dataframe tbody tr th {\n",
       "        vertical-align: top;\n",
       "    }\n",
       "\n",
       "    .dataframe thead th {\n",
       "        text-align: right;\n",
       "    }\n",
       "</style>\n",
       "<table border=\"1\" class=\"dataframe\">\n",
       "  <thead>\n",
       "    <tr style=\"text-align: right;\">\n",
       "      <th></th>\n",
       "      <th>name</th>\n",
       "      <th>online_order</th>\n",
       "      <th>book_table</th>\n",
       "      <th>rate</th>\n",
       "      <th>votes</th>\n",
       "      <th>approx_cost(for two people)</th>\n",
       "      <th>listed_in(type)</th>\n",
       "    </tr>\n",
       "  </thead>\n",
       "  <tbody>\n",
       "    <tr>\n",
       "      <th>30</th>\n",
       "      <td>Redberrys</td>\n",
       "      <td>Yes</td>\n",
       "      <td>No</td>\n",
       "      <td>4.0/5</td>\n",
       "      <td>219</td>\n",
       "      <td>600</td>\n",
       "      <td>Cafes</td>\n",
       "    </tr>\n",
       "    <tr>\n",
       "      <th>27</th>\n",
       "      <td>Sea Green Cafe</td>\n",
       "      <td>No</td>\n",
       "      <td>No</td>\n",
       "      <td>3.3/5</td>\n",
       "      <td>4</td>\n",
       "      <td>500</td>\n",
       "      <td>Cafes</td>\n",
       "    </tr>\n",
       "    <tr>\n",
       "      <th>137</th>\n",
       "      <td>Hotel Andhra Speices</td>\n",
       "      <td>No</td>\n",
       "      <td>No</td>\n",
       "      <td>2.9/5</td>\n",
       "      <td>0</td>\n",
       "      <td>250</td>\n",
       "      <td>Dining</td>\n",
       "    </tr>\n",
       "    <tr>\n",
       "      <th>118</th>\n",
       "      <td>Kannadigas Karavali</td>\n",
       "      <td>No</td>\n",
       "      <td>No</td>\n",
       "      <td>3.4/5</td>\n",
       "      <td>0</td>\n",
       "      <td>250</td>\n",
       "      <td>Dining</td>\n",
       "    </tr>\n",
       "    <tr>\n",
       "      <th>78</th>\n",
       "      <td>Kolbeh</td>\n",
       "      <td>No</td>\n",
       "      <td>No</td>\n",
       "      <td>3.7/5</td>\n",
       "      <td>22</td>\n",
       "      <td>500</td>\n",
       "      <td>Dining</td>\n",
       "    </tr>\n",
       "  </tbody>\n",
       "</table>\n",
       "</div>"
      ],
      "text/plain": [
       "                     name online_order book_table   rate  votes  \\\n",
       "30              Redberrys          Yes         No  4.0/5    219   \n",
       "27         Sea Green Cafe           No         No  3.3/5      4   \n",
       "137  Hotel Andhra Speices           No         No  2.9/5      0   \n",
       "118   Kannadigas Karavali           No         No  3.4/5      0   \n",
       "78                 Kolbeh           No         No  3.7/5     22   \n",
       "\n",
       "     approx_cost(for two people) listed_in(type)  \n",
       "30                           600           Cafes  \n",
       "27                           500           Cafes  \n",
       "137                          250          Dining  \n",
       "118                          250          Dining  \n",
       "78                           500          Dining  "
      ]
     },
     "execution_count": 10,
     "metadata": {},
     "output_type": "execute_result"
    }
   ],
   "source": [
    "df.sample(5)"
   ]
  },
  {
   "cell_type": "code",
   "execution_count": 6,
   "id": "fbe62ce0-7774-4147-9387-c936eeadc648",
   "metadata": {},
   "outputs": [
    {
     "name": "stdout",
     "output_type": "stream",
     "text": [
      "<class 'pandas.core.frame.DataFrame'>\n",
      "RangeIndex: 148 entries, 0 to 147\n",
      "Data columns (total 7 columns):\n",
      " #   Column                       Non-Null Count  Dtype \n",
      "---  ------                       --------------  ----- \n",
      " 0   name                         148 non-null    object\n",
      " 1   online_order                 148 non-null    object\n",
      " 2   book_table                   148 non-null    object\n",
      " 3   rate                         148 non-null    object\n",
      " 4   votes                        148 non-null    int64 \n",
      " 5   approx_cost(for two people)  148 non-null    int64 \n",
      " 6   listed_in(type)              148 non-null    object\n",
      "dtypes: int64(2), object(5)\n",
      "memory usage: 8.2+ KB\n"
     ]
    }
   ],
   "source": [
    "df.info()"
   ]
  },
  {
   "cell_type": "code",
   "execution_count": 7,
   "id": "4e2c46bf-b2f0-4d5f-85c6-07f5f4cd9575",
   "metadata": {},
   "outputs": [
    {
     "data": {
      "text/plain": [
       "name                           0\n",
       "online_order                   0\n",
       "book_table                     0\n",
       "rate                           0\n",
       "votes                          0\n",
       "approx_cost(for two people)    0\n",
       "listed_in(type)                0\n",
       "dtype: int64"
      ]
     },
     "execution_count": 7,
     "metadata": {},
     "output_type": "execute_result"
    }
   ],
   "source": [
    "#Checked for any null values\n",
    "\n",
    "df.isna().sum()"
   ]
  },
  {
   "cell_type": "code",
   "execution_count": 16,
   "id": "fd0978e1-ca07-4c01-a5f8-a201b5fe9f90",
   "metadata": {},
   "outputs": [
    {
     "data": {
      "text/html": [
       "<div>\n",
       "<style scoped>\n",
       "    .dataframe tbody tr th:only-of-type {\n",
       "        vertical-align: middle;\n",
       "    }\n",
       "\n",
       "    .dataframe tbody tr th {\n",
       "        vertical-align: top;\n",
       "    }\n",
       "\n",
       "    .dataframe thead th {\n",
       "        text-align: right;\n",
       "    }\n",
       "</style>\n",
       "<table border=\"1\" class=\"dataframe\">\n",
       "  <thead>\n",
       "    <tr style=\"text-align: right;\">\n",
       "      <th></th>\n",
       "      <th>name</th>\n",
       "      <th>online_order</th>\n",
       "      <th>book_table</th>\n",
       "      <th>rate</th>\n",
       "      <th>votes</th>\n",
       "      <th>approx_cost(for two people)</th>\n",
       "      <th>listed_in(type)</th>\n",
       "    </tr>\n",
       "  </thead>\n",
       "  <tbody>\n",
       "    <tr>\n",
       "      <th>0</th>\n",
       "      <td>Jalsa</td>\n",
       "      <td>Yes</td>\n",
       "      <td>Yes</td>\n",
       "      <td>4.1</td>\n",
       "      <td>775</td>\n",
       "      <td>800</td>\n",
       "      <td>Buffet</td>\n",
       "    </tr>\n",
       "    <tr>\n",
       "      <th>1</th>\n",
       "      <td>Spice Elephant</td>\n",
       "      <td>Yes</td>\n",
       "      <td>No</td>\n",
       "      <td>4.1</td>\n",
       "      <td>787</td>\n",
       "      <td>800</td>\n",
       "      <td>Buffet</td>\n",
       "    </tr>\n",
       "    <tr>\n",
       "      <th>2</th>\n",
       "      <td>San Churro Cafe</td>\n",
       "      <td>Yes</td>\n",
       "      <td>No</td>\n",
       "      <td>3.8</td>\n",
       "      <td>918</td>\n",
       "      <td>800</td>\n",
       "      <td>Buffet</td>\n",
       "    </tr>\n",
       "    <tr>\n",
       "      <th>3</th>\n",
       "      <td>Addhuri Udupi Bhojana</td>\n",
       "      <td>No</td>\n",
       "      <td>No</td>\n",
       "      <td>3.7</td>\n",
       "      <td>88</td>\n",
       "      <td>300</td>\n",
       "      <td>Buffet</td>\n",
       "    </tr>\n",
       "    <tr>\n",
       "      <th>4</th>\n",
       "      <td>Grand Village</td>\n",
       "      <td>No</td>\n",
       "      <td>No</td>\n",
       "      <td>3.8</td>\n",
       "      <td>166</td>\n",
       "      <td>600</td>\n",
       "      <td>Buffet</td>\n",
       "    </tr>\n",
       "  </tbody>\n",
       "</table>\n",
       "</div>"
      ],
      "text/plain": [
       "                    name online_order book_table  rate  votes  \\\n",
       "0                  Jalsa          Yes        Yes   4.1    775   \n",
       "1         Spice Elephant          Yes         No   4.1    787   \n",
       "2        San Churro Cafe          Yes         No   3.8    918   \n",
       "3  Addhuri Udupi Bhojana           No         No   3.7     88   \n",
       "4          Grand Village           No         No   3.8    166   \n",
       "\n",
       "   approx_cost(for two people) listed_in(type)  \n",
       "0                          800          Buffet  \n",
       "1                          800          Buffet  \n",
       "2                          800          Buffet  \n",
       "3                          300          Buffet  \n",
       "4                          600          Buffet  "
      ]
     },
     "execution_count": 16,
     "metadata": {},
     "output_type": "execute_result"
    }
   ],
   "source": [
    "#Removing the denominator from the rate column to make it simpler, by creating a function\n",
    "\n",
    "def handleRate(value):\n",
    "    value=str(value).split('/')\n",
    "    value = value[0];\n",
    "    return float(value)\n",
    "\n",
    "df['rate'] = df['rate'].apply(handleRate)\n",
    "\n",
    "df.head()\n"
   ]
  },
  {
   "cell_type": "code",
   "execution_count": 18,
   "id": "e8fd26b9-641f-4db6-9678-e21e3ad68523",
   "metadata": {},
   "outputs": [
    {
     "data": {
      "text/plain": [
       "Text(0.5, 0, 'Types of Restaurants')"
      ]
     },
     "execution_count": 18,
     "metadata": {},
     "output_type": "execute_result"
    },
    {
     "data": {
      "image/png": "[encoded data removed]",
      "text/plain": [
       "<Figure size 640x480 with 1 Axes>"
      ]
     },
     "metadata": {},
     "output_type": "display_data"
    }
   ],
   "source": [
    "sns.countplot(x=df['listed_in(type)'])\n",
    "mp.xlabel('Types of Restaurants')"
   ]
  },
  {
   "cell_type": "markdown",
   "id": "c579dcb2-7b6e-4df1-892f-9f53f2821e6b",
   "metadata": {},
   "source": [
    "## It seems like Majority of Customers Order from Dining type of restaurant"
   ]
  },
  {
   "cell_type": "code",
   "execution_count": 29,
   "id": "8ea25d56-6118-46e9-9b50-d8b915153f1a",
   "metadata": {},
   "outputs": [
    {
     "data": {
      "text/html": [
       "<div>\n",
       "<style scoped>\n",
       "    .dataframe tbody tr th:only-of-type {\n",
       "        vertical-align: middle;\n",
       "    }\n",
       "\n",
       "    .dataframe tbody tr th {\n",
       "        vertical-align: top;\n",
       "    }\n",
       "\n",
       "    .dataframe thead th {\n",
       "        text-align: right;\n",
       "    }\n",
       "</style>\n",
       "<table border=\"1\" class=\"dataframe\">\n",
       "  <thead>\n",
       "    <tr style=\"text-align: right;\">\n",
       "      <th></th>\n",
       "      <th>votes</th>\n",
       "    </tr>\n",
       "    <tr>\n",
       "      <th>listed_in(type)</th>\n",
       "      <th></th>\n",
       "    </tr>\n",
       "  </thead>\n",
       "  <tbody>\n",
       "    <tr>\n",
       "      <th>Buffet</th>\n",
       "      <td>3028</td>\n",
       "    </tr>\n",
       "    <tr>\n",
       "      <th>Cafes</th>\n",
       "      <td>6434</td>\n",
       "    </tr>\n",
       "    <tr>\n",
       "      <th>Dining</th>\n",
       "      <td>20363</td>\n",
       "    </tr>\n",
       "    <tr>\n",
       "      <th>other</th>\n",
       "      <td>9367</td>\n",
       "    </tr>\n",
       "  </tbody>\n",
       "</table>\n",
       "</div>"
      ],
      "text/plain": [
       "                 votes\n",
       "listed_in(type)       \n",
       "Buffet            3028\n",
       "Cafes             6434\n",
       "Dining           20363\n",
       "other             9367"
      ]
     },
     "execution_count": 29,
     "metadata": {},
     "output_type": "execute_result"
    }
   ],
   "source": [
    "df.groupby('listed_in(type)').agg({'votes' : 'sum'})"
   ]
  },
  {
   "cell_type": "code",
   "execution_count": 28,
   "id": "5197ad1d-d686-4380-909c-e9d4f1528d98",
   "metadata": {},
   "outputs": [
    {
     "data": {
      "text/plain": [
       "Text(0, 0.5, 'Votes')"
      ]
     },
     "execution_count": 28,
     "metadata": {},
     "output_type": "execute_result"
    },
    {
     "data": {
      "image/png": "[encoded data removed]",
      "text/plain": [
       "<Figure size 640x480 with 1 Axes>"
      ]
     },
     "metadata": {},
     "output_type": "display_data"
    }
   ],
   "source": [
    "# The following graphs denote the number of votes for each type of restaurant.\n",
    "\n",
    "am = df.groupby('listed_in(type)').agg({'votes' : 'sum'})\n",
    "\n",
    "mp.plot(am, c='red', marker='o')\n",
    "mp.xlabel('Type of Restaurant', c='red', size=10)\n",
    "mp.ylabel('Votes', c='red', size=10)"
   ]
  },
  {
   "cell_type": "markdown",
   "id": "9631be1d-394b-40a1-a8bf-2cc1317320dc",
   "metadata": {},
   "source": [
    "## The restaurants coming under the dining category has the highest count of votes!"
   ]
  },
  {
   "cell_type": "code",
   "execution_count": 31,
   "id": "cb700193-7380-420b-a33c-9a318229f87b",
   "metadata": {},
   "outputs": [
    {
     "data": {
      "image/png": "[encoded data removed]",
      "text/plain": [
       "<Figure size 640x480 with 1 Axes>"
      ]
     },
     "metadata": {},
     "output_type": "display_data"
    }
   ],
   "source": [
    "mp.hist(df['rate'], bins = 5)\n",
    "mp.title('ratings distribution')\n",
    "mp.show()"
   ]
  },
  {
   "cell_type": "markdown",
   "id": "eba5f17d-8171-447c-9a1d-b63fc4efea2b",
   "metadata": {},
   "source": [
    "## The majority of restaurants have received ratings from 3.5 to 4"
   ]
  },
  {
   "cell_type": "code",
   "execution_count": 34,
   "id": "068875e6-5a1e-4018-b90e-fd480c9e1191",
   "metadata": {},
   "outputs": [
    {
     "data": {
      "text/plain": [
       "Text(0.5, 0, 'Average Order Spending for two people')"
      ]
     },
     "execution_count": 34,
     "metadata": {},
     "output_type": "execute_result"
    },
    {
     "data": {
      "image/png": "[encoded data removed]",
      "text/plain": [
       "<Figure size 640x480 with 1 Axes>"
      ]
     },
     "metadata": {},
     "output_type": "display_data"
    }
   ],
   "source": [
    "sns.countplot(x=df['approx_cost(for two people)'])\n",
    "mp.xlabel('Average Order Spending for two people')"
   ]
  },
  {
   "cell_type": "markdown",
   "id": "c5eb6c34-ba5b-47a4-a3ae-e7c6a5c362d2",
   "metadata": {},
   "source": [
    "## Majority of couples prefer restaurants with an approximate cost of 300 Rs."
   ]
  },
  {
   "cell_type": "code",
   "execution_count": 38,
   "id": "9c94f7d6-f4d6-4574-88d0-d831f4906483",
   "metadata": {},
   "outputs": [
    {
     "data": {
      "text/html": [
       "<div>\n",
       "<style scoped>\n",
       "    .dataframe tbody tr th:only-of-type {\n",
       "        vertical-align: middle;\n",
       "    }\n",
       "\n",
       "    .dataframe tbody tr th {\n",
       "        vertical-align: top;\n",
       "    }\n",
       "\n",
       "    .dataframe thead th {\n",
       "        text-align: right;\n",
       "    }\n",
       "</style>\n",
       "<table border=\"1\" class=\"dataframe\">\n",
       "  <thead>\n",
       "    <tr style=\"text-align: right;\">\n",
       "      <th></th>\n",
       "      <th>rate</th>\n",
       "    </tr>\n",
       "    <tr>\n",
       "      <th>online_order</th>\n",
       "      <th></th>\n",
       "    </tr>\n",
       "  </thead>\n",
       "  <tbody>\n",
       "    <tr>\n",
       "      <th>No</th>\n",
       "      <td>4.3</td>\n",
       "    </tr>\n",
       "    <tr>\n",
       "      <th>Yes</th>\n",
       "      <td>4.6</td>\n",
       "    </tr>\n",
       "  </tbody>\n",
       "</table>\n",
       "</div>"
      ],
      "text/plain": [
       "              rate\n",
       "online_order      \n",
       "No             4.3\n",
       "Yes            4.6"
      ]
     },
     "execution_count": 38,
     "metadata": {},
     "output_type": "execute_result"
    }
   ],
   "source": [
    "df.groupby('online_order').agg({'rate' : 'max'})\n",
    "\n"
   ]
  },
  {
   "cell_type": "code",
   "execution_count": 39,
   "id": "dd99eca6-49af-4dfd-9508-81b49a6933c2",
   "metadata": {},
   "outputs": [
    {
     "data": {
      "text/plain": [
       "<Axes: xlabel='online_order', ylabel='rate'>"
      ]
     },
     "execution_count": 39,
     "metadata": {},
     "output_type": "execute_result"
    },
    {
     "data": {
      "image/png": "[encoded data removed]",
      "text/plain": [
       "<Figure size 600x600 with 1 Axes>"
      ]
     },
     "metadata": {},
     "output_type": "display_data"
    }
   ],
   "source": [
    "mp.figure(figsize = (6,6))\n",
    "\n",
    "sns.boxplot(x = 'online_order', y = 'rate', data = df)"
   ]
  },
  {
   "cell_type": "markdown",
   "id": "c7925605-eb65-4539-aede-b4a9e386c39a",
   "metadata": {},
   "source": [
    "## Offline order received lower rating as compared to online orders"
   ]
  },
  {
   "cell_type": "code",
   "execution_count": 40,
   "id": "77926117-de1f-4ecd-a631-4f3c49471490",
   "metadata": {},
   "outputs": [
    {
     "data": {
      "text/html": [
       "<div>\n",
       "<style scoped>\n",
       "    .dataframe tbody tr th:only-of-type {\n",
       "        vertical-align: middle;\n",
       "    }\n",
       "\n",
       "    .dataframe tbody tr th {\n",
       "        vertical-align: top;\n",
       "    }\n",
       "\n",
       "    .dataframe thead th {\n",
       "        text-align: right;\n",
       "    }\n",
       "</style>\n",
       "<table border=\"1\" class=\"dataframe\">\n",
       "  <thead>\n",
       "    <tr style=\"text-align: right;\">\n",
       "      <th></th>\n",
       "      <th>name</th>\n",
       "      <th>online_order</th>\n",
       "      <th>book_table</th>\n",
       "      <th>rate</th>\n",
       "      <th>votes</th>\n",
       "      <th>approx_cost(for two people)</th>\n",
       "      <th>listed_in(type)</th>\n",
       "    </tr>\n",
       "  </thead>\n",
       "  <tbody>\n",
       "    <tr>\n",
       "      <th>0</th>\n",
       "      <td>Jalsa</td>\n",
       "      <td>Yes</td>\n",
       "      <td>Yes</td>\n",
       "      <td>4.1</td>\n",
       "      <td>775</td>\n",
       "      <td>800</td>\n",
       "      <td>Buffet</td>\n",
       "    </tr>\n",
       "    <tr>\n",
       "      <th>1</th>\n",
       "      <td>Spice Elephant</td>\n",
       "      <td>Yes</td>\n",
       "      <td>No</td>\n",
       "      <td>4.1</td>\n",
       "      <td>787</td>\n",
       "      <td>800</td>\n",
       "      <td>Buffet</td>\n",
       "    </tr>\n",
       "    <tr>\n",
       "      <th>2</th>\n",
       "      <td>San Churro Cafe</td>\n",
       "      <td>Yes</td>\n",
       "      <td>No</td>\n",
       "      <td>3.8</td>\n",
       "      <td>918</td>\n",
       "      <td>800</td>\n",
       "      <td>Buffet</td>\n",
       "    </tr>\n",
       "    <tr>\n",
       "      <th>3</th>\n",
       "      <td>Addhuri Udupi Bhojana</td>\n",
       "      <td>No</td>\n",
       "      <td>No</td>\n",
       "      <td>3.7</td>\n",
       "      <td>88</td>\n",
       "      <td>300</td>\n",
       "      <td>Buffet</td>\n",
       "    </tr>\n",
       "    <tr>\n",
       "      <th>4</th>\n",
       "      <td>Grand Village</td>\n",
       "      <td>No</td>\n",
       "      <td>No</td>\n",
       "      <td>3.8</td>\n",
       "      <td>166</td>\n",
       "      <td>600</td>\n",
       "      <td>Buffet</td>\n",
       "    </tr>\n",
       "  </tbody>\n",
       "</table>\n",
       "</div>"
      ],
      "text/plain": [
       "                    name online_order book_table  rate  votes  \\\n",
       "0                  Jalsa          Yes        Yes   4.1    775   \n",
       "1         Spice Elephant          Yes         No   4.1    787   \n",
       "2        San Churro Cafe          Yes         No   3.8    918   \n",
       "3  Addhuri Udupi Bhojana           No         No   3.7     88   \n",
       "4          Grand Village           No         No   3.8    166   \n",
       "\n",
       "   approx_cost(for two people) listed_in(type)  \n",
       "0                          800          Buffet  \n",
       "1                          800          Buffet  \n",
       "2                          800          Buffet  \n",
       "3                          300          Buffet  \n",
       "4                          600          Buffet  "
      ]
     },
     "execution_count": 40,
     "metadata": {},
     "output_type": "execute_result"
    }
   ],
   "source": [
    "df.head()"
   ]
  },
  {
   "cell_type": "code",
   "execution_count": 41,
   "id": "6697140f-76e2-4a37-8214-4ec1ec23739a",
   "metadata": {},
   "outputs": [
    {
     "data": {
      "image/png": "[encoded data removed]",
      "text/plain": [
       "<Figure size 640x480 with 2 Axes>"
      ]
     },
     "metadata": {},
     "output_type": "display_data"
    }
   ],
   "source": [
    "pivot_table = df.pivot_table(index='listed_in(type)', columns='online_order', aggfunc='size', fill_value=0)\n",
    "sns.heatmap(pivot_table, annot=True, cmap='YlGnBu', fmt= 'd')\n",
    "mp.title('Heatmap')\n",
    "mp.xlabel('Online Order')\n",
    "mp.ylabel('Listed_in(type)')\n",
    "mp.show()"
   ]
  },
  {
   "cell_type": "markdown",
   "id": "a081ada1-d256-435a-80df-6f02c0f77fbb",
   "metadata": {},
   "source": [
    "## Dining Restaurants primarily accept offline orders, whereas cafes primarily receive online orders. This suggests that clients prefer orders in person at restaurants,but prefer online ordering at cafes."
   ]
  },
  {
   "cell_type": "markdown",
   "id": "3fff0b19-9406-4661-adb6-00257fa6a3b1",
   "metadata": {},
   "source": [
    "# CLASSIFICATION ANALYSIS"
   ]
  },
  {
   "cell_type": "code",
   "execution_count": 43,
   "id": "9064c51c-eeda-4f4c-a904-cbc7af606b88",
   "metadata": {},
   "outputs": [
    {
     "data": {
      "text/html": [
       "<div>\n",
       "<style scoped>\n",
       "    .dataframe tbody tr th:only-of-type {\n",
       "        vertical-align: middle;\n",
       "    }\n",
       "\n",
       "    .dataframe tbody tr th {\n",
       "        vertical-align: top;\n",
       "    }\n",
       "\n",
       "    .dataframe thead th {\n",
       "        text-align: right;\n",
       "    }\n",
       "</style>\n",
       "<table border=\"1\" class=\"dataframe\">\n",
       "  <thead>\n",
       "    <tr style=\"text-align: right;\">\n",
       "      <th></th>\n",
       "      <th>name</th>\n",
       "      <th>online_order</th>\n",
       "      <th>book_table</th>\n",
       "      <th>rate</th>\n",
       "      <th>votes</th>\n",
       "      <th>approx_cost(for two people)</th>\n",
       "      <th>listed_in(type)</th>\n",
       "    </tr>\n",
       "  </thead>\n",
       "  <tbody>\n",
       "    <tr>\n",
       "      <th>58</th>\n",
       "      <td>Five Star Chicken</td>\n",
       "      <td>No</td>\n",
       "      <td>No</td>\n",
       "      <td>3.6/5</td>\n",
       "      <td>55</td>\n",
       "      <td>200</td>\n",
       "      <td>Dining</td>\n",
       "    </tr>\n",
       "    <tr>\n",
       "      <th>136</th>\n",
       "      <td>Sri Sai Tiffannies</td>\n",
       "      <td>No</td>\n",
       "      <td>No</td>\n",
       "      <td>3.3/5</td>\n",
       "      <td>0</td>\n",
       "      <td>150</td>\n",
       "      <td>Dining</td>\n",
       "    </tr>\n",
       "    <tr>\n",
       "      <th>129</th>\n",
       "      <td>Sri Basaveshwar Jolada Rotti Oota</td>\n",
       "      <td>No</td>\n",
       "      <td>No</td>\n",
       "      <td>3.4/5</td>\n",
       "      <td>0</td>\n",
       "      <td>150</td>\n",
       "      <td>Dining</td>\n",
       "    </tr>\n",
       "    <tr>\n",
       "      <th>142</th>\n",
       "      <td>Gawdaru Mane Beriyani</td>\n",
       "      <td>No</td>\n",
       "      <td>No</td>\n",
       "      <td>3.3/5</td>\n",
       "      <td>0</td>\n",
       "      <td>300</td>\n",
       "      <td>Dining</td>\n",
       "    </tr>\n",
       "    <tr>\n",
       "      <th>125</th>\n",
       "      <td>Soms Kitchen &amp; Bakes</td>\n",
       "      <td>No</td>\n",
       "      <td>No</td>\n",
       "      <td>2.9/5</td>\n",
       "      <td>0</td>\n",
       "      <td>400</td>\n",
       "      <td>Dining</td>\n",
       "    </tr>\n",
       "    <tr>\n",
       "      <th>138</th>\n",
       "      <td>Sri Murari Family Restaurant</td>\n",
       "      <td>No</td>\n",
       "      <td>No</td>\n",
       "      <td>2.9/5</td>\n",
       "      <td>0</td>\n",
       "      <td>250</td>\n",
       "      <td>Dining</td>\n",
       "    </tr>\n",
       "    <tr>\n",
       "      <th>140</th>\n",
       "      <td>Darkolates</td>\n",
       "      <td>No</td>\n",
       "      <td>No</td>\n",
       "      <td>3.3/5</td>\n",
       "      <td>0</td>\n",
       "      <td>200</td>\n",
       "      <td>Dining</td>\n",
       "    </tr>\n",
       "    <tr>\n",
       "      <th>146</th>\n",
       "      <td>Darbar</td>\n",
       "      <td>No</td>\n",
       "      <td>No</td>\n",
       "      <td>3.0/5</td>\n",
       "      <td>98</td>\n",
       "      <td>800</td>\n",
       "      <td>Dining</td>\n",
       "    </tr>\n",
       "    <tr>\n",
       "      <th>126</th>\n",
       "      <td>Banashankari Nati Style</td>\n",
       "      <td>No</td>\n",
       "      <td>No</td>\n",
       "      <td>2.9/5</td>\n",
       "      <td>0</td>\n",
       "      <td>350</td>\n",
       "      <td>Dining</td>\n",
       "    </tr>\n",
       "    <tr>\n",
       "      <th>18</th>\n",
       "      <td>T3H Cafe</td>\n",
       "      <td>No</td>\n",
       "      <td>No</td>\n",
       "      <td>3.9/5</td>\n",
       "      <td>93</td>\n",
       "      <td>300</td>\n",
       "      <td>Cafes</td>\n",
       "    </tr>\n",
       "    <tr>\n",
       "      <th>119</th>\n",
       "      <td>K27 - The Pub</td>\n",
       "      <td>No</td>\n",
       "      <td>No</td>\n",
       "      <td>3.1/5</td>\n",
       "      <td>30</td>\n",
       "      <td>900</td>\n",
       "      <td>Dining</td>\n",
       "    </tr>\n",
       "    <tr>\n",
       "      <th>144</th>\n",
       "      <td>New Indraprasta</td>\n",
       "      <td>No</td>\n",
       "      <td>No</td>\n",
       "      <td>3.3/5</td>\n",
       "      <td>0</td>\n",
       "      <td>150</td>\n",
       "      <td>Dining</td>\n",
       "    </tr>\n",
       "    <tr>\n",
       "      <th>90</th>\n",
       "      <td>Me And My Cake</td>\n",
       "      <td>No</td>\n",
       "      <td>No</td>\n",
       "      <td>3.7/5</td>\n",
       "      <td>0</td>\n",
       "      <td>500</td>\n",
       "      <td>Dining</td>\n",
       "    </tr>\n",
       "    <tr>\n",
       "      <th>85</th>\n",
       "      <td>The Big O Bakes</td>\n",
       "      <td>No</td>\n",
       "      <td>No</td>\n",
       "      <td>4.0/5</td>\n",
       "      <td>66</td>\n",
       "      <td>300</td>\n",
       "      <td>Dining</td>\n",
       "    </tr>\n",
       "    <tr>\n",
       "      <th>1</th>\n",
       "      <td>Spice Elephant</td>\n",
       "      <td>Yes</td>\n",
       "      <td>No</td>\n",
       "      <td>4.1/5</td>\n",
       "      <td>787</td>\n",
       "      <td>800</td>\n",
       "      <td>Buffet</td>\n",
       "    </tr>\n",
       "  </tbody>\n",
       "</table>\n",
       "</div>"
      ],
      "text/plain": [
       "                                  name online_order book_table   rate  votes  \\\n",
       "58                   Five Star Chicken           No         No  3.6/5     55   \n",
       "136                 Sri Sai Tiffannies           No         No  3.3/5      0   \n",
       "129  Sri Basaveshwar Jolada Rotti Oota           No         No  3.4/5      0   \n",
       "142              Gawdaru Mane Beriyani           No         No  3.3/5      0   \n",
       "125               Soms Kitchen & Bakes           No         No  2.9/5      0   \n",
       "138       Sri Murari Family Restaurant           No         No  2.9/5      0   \n",
       "140                         Darkolates           No         No  3.3/5      0   \n",
       "146                             Darbar           No         No  3.0/5     98   \n",
       "126            Banashankari Nati Style           No         No  2.9/5      0   \n",
       "18                            T3H Cafe           No         No  3.9/5     93   \n",
       "119                      K27 - The Pub           No         No  3.1/5     30   \n",
       "144                    New Indraprasta           No         No  3.3/5      0   \n",
       "90                      Me And My Cake           No         No  3.7/5      0   \n",
       "85                     The Big O Bakes           No         No  4.0/5     66   \n",
       "1                       Spice Elephant          Yes         No  4.1/5    787   \n",
       "\n",
       "     approx_cost(for two people) listed_in(type)  \n",
       "58                           200          Dining  \n",
       "136                          150          Dining  \n",
       "129                          150          Dining  \n",
       "142                          300          Dining  \n",
       "125                          400          Dining  \n",
       "138                          250          Dining  \n",
       "140                          200          Dining  \n",
       "146                          800          Dining  \n",
       "126                          350          Dining  \n",
       "18                           300           Cafes  \n",
       "119                          900          Dining  \n",
       "144                          150          Dining  \n",
       "90                           500          Dining  \n",
       "85                           300          Dining  \n",
       "1                            800          Buffet  "
      ]
     },
     "execution_count": 43,
     "metadata": {},
     "output_type": "execute_result"
    }
   ],
   "source": [
    "df.sample(15)"
   ]
  },
  {
   "cell_type": "code",
   "execution_count": 37,
   "id": "63384459-7b29-425d-8cbd-31d780a92f71",
   "metadata": {},
   "outputs": [],
   "source": [
    "#For classification analysis I've chosen the 'listed_in(type)' column as the target variable and the rest of the columns as feature variables.\n",
    "\n",
    "X = df.drop('listed_in(type)', axis=1)  # Features\n",
    "y = df['listed_in(type)']             # Target variable"
   ]
  },
  {
   "cell_type": "code",
   "execution_count": 14,
   "id": "e4e7b704-7669-4f8c-90bd-1ffe6ddfe46f",
   "metadata": {},
   "outputs": [],
   "source": [
    "# Convert 'online_order' and 'book_table' to numerical\n",
    "X['online_order'] = X['online_order'].map({'Yes': 1, 'No': 0})\n",
    "X['book_table'] = X['book_table'].map({'Yes': 1, 'No': 0})"
   ]
  },
  {
   "cell_type": "code",
   "execution_count": 15,
   "id": "439c6d74-e7cf-44bd-95fa-0372a087955f",
   "metadata": {},
   "outputs": [],
   "source": [
    "# Split 'rate' into a numerical value\n",
    "X['rate'] = X['rate'].str.split('/').str[0].astype(float)"
   ]
  },
  {
   "cell_type": "code",
   "execution_count": 23,
   "id": "6d2bdcf5-ea60-4efc-b5c7-bb976559933b",
   "metadata": {},
   "outputs": [],
   "source": [
    "# Splitting data into training and testing sets\n",
    "X_train, X_test, y_train, y_test = train_test_split(X, y, test_size=0.2, random_state=42)"
   ]
  },
  {
   "cell_type": "code",
   "execution_count": 46,
   "id": "1bb0ef36-1437-4952-a94a-4e8935739425",
   "metadata": {},
   "outputs": [],
   "source": [
    "X_train = X_train.drop('name', axis=1)\n",
    "X_test = X_test.drop('name', axis=1)"
   ]
  },
  {
   "cell_type": "code",
   "execution_count": 49,
   "id": "baa11ac6-2be1-432d-910c-97b762e164b7",
   "metadata": {
    "scrolled": true
   },
   "outputs": [
    {
     "name": "stdout",
     "output_type": "stream",
     "text": [
      "Decision Tree Accuracy: 0.5666666666666667\n",
      "Decision Tree Classification Report:\n",
      "               precision    recall  f1-score   support\n",
      "\n",
      "      Buffet       0.00      0.00      0.00         0\n",
      "       Cafes       0.25      0.11      0.15         9\n",
      "      Dining       0.73      0.80      0.76        20\n",
      "       other       0.00      0.00      0.00         1\n",
      "\n",
      "    accuracy                           0.57        30\n",
      "   macro avg       0.24      0.23      0.23        30\n",
      "weighted avg       0.56      0.57      0.55        30\n",
      "\n"
     ]
    },
    {
     "name": "stderr",
     "output_type": "stream",
     "text": [
      "C:\\Users\\TANMAY\\AppData\\Local\\Programs\\Python\\Python312\\Lib\\site-packages\\sklearn\\metrics\\_classification.py:1565: UndefinedMetricWarning: Recall is ill-defined and being set to 0.0 in labels with no true samples. Use `zero_division` parameter to control this behavior.\n",
      "  _warn_prf(average, modifier, f\"{metric.capitalize()} is\", len(result))\n",
      "C:\\Users\\TANMAY\\AppData\\Local\\Programs\\Python\\Python312\\Lib\\site-packages\\sklearn\\metrics\\_classification.py:1565: UndefinedMetricWarning: Recall is ill-defined and being set to 0.0 in labels with no true samples. Use `zero_division` parameter to control this behavior.\n",
      "  _warn_prf(average, modifier, f\"{metric.capitalize()} is\", len(result))\n",
      "C:\\Users\\TANMAY\\AppData\\Local\\Programs\\Python\\Python312\\Lib\\site-packages\\sklearn\\metrics\\_classification.py:1565: UndefinedMetricWarning: Recall is ill-defined and being set to 0.0 in labels with no true samples. Use `zero_division` parameter to control this behavior.\n",
      "  _warn_prf(average, modifier, f\"{metric.capitalize()} is\", len(result))\n"
     ]
    }
   ],
   "source": [
    "# Decision Tree Classifier\n",
    "dt_classifier = DecisionTreeClassifier(random_state=42)\n",
    "dt_classifier.fit(X_train, y_train)\n",
    "dt_predictions = dt_classifier.predict(X_test)\n",
    "print(\"Decision Tree Accuracy:\", accuracy_score(y_test, dt_predictions))\n",
    "print(\"Decision Tree Classification Report:\\n\", classification_report(y_test, dt_predictions))"
   ]
  },
  {
   "cell_type": "code",
   "execution_count": 50,
   "id": "0589bdf7-373f-424d-a93d-37b4fd15ec9e",
   "metadata": {
    "scrolled": true
   },
   "outputs": [
    {
     "name": "stdout",
     "output_type": "stream",
     "text": [
      "Random Forest Accuracy: 0.5666666666666667\n",
      "Random Forest Classification Report:\n",
      "               precision    recall  f1-score   support\n",
      "\n",
      "      Buffet       0.00      0.00      0.00         0\n",
      "       Cafes       0.00      0.00      0.00         9\n",
      "      Dining       0.68      0.85      0.76        20\n",
      "       other       0.00      0.00      0.00         1\n",
      "\n",
      "    accuracy                           0.57        30\n",
      "   macro avg       0.17      0.21      0.19        30\n",
      "weighted avg       0.45      0.57      0.50        30\n",
      "\n"
     ]
    },
    {
     "name": "stderr",
     "output_type": "stream",
     "text": [
      "C:\\Users\\TANMAY\\AppData\\Local\\Programs\\Python\\Python312\\Lib\\site-packages\\sklearn\\metrics\\_classification.py:1565: UndefinedMetricWarning: Recall is ill-defined and being set to 0.0 in labels with no true samples. Use `zero_division` parameter to control this behavior.\n",
      "  _warn_prf(average, modifier, f\"{metric.capitalize()} is\", len(result))\n",
      "C:\\Users\\TANMAY\\AppData\\Local\\Programs\\Python\\Python312\\Lib\\site-packages\\sklearn\\metrics\\_classification.py:1565: UndefinedMetricWarning: Recall is ill-defined and being set to 0.0 in labels with no true samples. Use `zero_division` parameter to control this behavior.\n",
      "  _warn_prf(average, modifier, f\"{metric.capitalize()} is\", len(result))\n",
      "C:\\Users\\TANMAY\\AppData\\Local\\Programs\\Python\\Python312\\Lib\\site-packages\\sklearn\\metrics\\_classification.py:1565: UndefinedMetricWarning: Recall is ill-defined and being set to 0.0 in labels with no true samples. Use `zero_division` parameter to control this behavior.\n",
      "  _warn_prf(average, modifier, f\"{metric.capitalize()} is\", len(result))\n"
     ]
    }
   ],
   "source": [
    "# 3. Random Forest Classifier\n",
    "rf_classifier = RandomForestClassifier(n_estimators=100, random_state=42)\n",
    "rf_classifier.fit(X_train, y_train)\n",
    "rf_predictions = rf_classifier.predict(X_test)\n",
    "print(\"Random Forest Accuracy:\", accuracy_score(y_test, rf_predictions))\n",
    "print(\"Random Forest Classification Report:\\n\", classification_report(y_test, rf_predictions))\n"
   ]
  },
  {
   "cell_type": "code",
   "execution_count": 63,
   "id": "58ff0012-e41c-4f16-8129-155c45b9a16d",
   "metadata": {
    "scrolled": true
   },
   "outputs": [
    {
     "name": "stderr",
     "output_type": "stream",
     "text": [
      "C:\\Users\\TANMAY\\AppData\\Local\\Programs\\Python\\Python312\\Lib\\site-packages\\sklearn\\model_selection\\_validation.py:528: FitFailedWarning: \n",
      "450 fits failed out of a total of 1350.\n",
      "The score on these train-test partitions for these parameters will be set to nan.\n",
      "If these failures are not expected, you can try to debug them by setting error_score='raise'.\n",
      "\n",
      "Below are more details about the failures:\n",
      "--------------------------------------------------------------------------------\n",
      "450 fits failed with the following error:\n",
      "Traceback (most recent call last):\n",
      "  File \"C:\\Users\\TANMAY\\AppData\\Local\\Programs\\Python\\Python312\\Lib\\site-packages\\sklearn\\model_selection\\_validation.py\", line 866, in _fit_and_score\n",
      "    estimator.fit(X_train, y_train, **fit_params)\n",
      "  File \"C:\\Users\\TANMAY\\AppData\\Local\\Programs\\Python\\Python312\\Lib\\site-packages\\sklearn\\base.py\", line 1382, in wrapper\n",
      "    estimator._validate_params()\n",
      "  File \"C:\\Users\\TANMAY\\AppData\\Local\\Programs\\Python\\Python312\\Lib\\site-packages\\sklearn\\base.py\", line 436, in _validate_params\n",
      "    validate_parameter_constraints(\n",
      "  File \"C:\\Users\\TANMAY\\AppData\\Local\\Programs\\Python\\Python312\\Lib\\site-packages\\sklearn\\utils\\_param_validation.py\", line 98, in validate_parameter_constraints\n",
      "    raise InvalidParameterError(\n",
      "sklearn.utils._param_validation.InvalidParameterError: The 'max_features' parameter of DecisionTreeClassifier must be an int in the range [1, inf), a float in the range (0.0, 1.0], a str among {'sqrt', 'log2'} or None. Got 'auto' instead.\n",
      "\n",
      "  warnings.warn(some_fits_failed_message, FitFailedWarning)\n",
      "C:\\Users\\TANMAY\\AppData\\Local\\Programs\\Python\\Python312\\Lib\\site-packages\\sklearn\\model_selection\\_search.py:1108: UserWarning: One or more of the test scores are non-finite: [       nan        nan        nan        nan        nan        nan\n",
      "        nan        nan        nan 0.74565217 0.72898551 0.71304348\n",
      " 0.72898551 0.72898551 0.71304348 0.72898551 0.72898551 0.69637681\n",
      " 0.72934783 0.72934783 0.73804348 0.73768116 0.73768116 0.74637681\n",
      " 0.75507246 0.75507246 0.75507246        nan        nan        nan\n",
      "        nan        nan        nan        nan        nan        nan\n",
      " 0.71304348 0.65398551 0.74710145 0.64601449 0.66231884 0.74710145\n",
      " 0.69528986 0.69528986 0.74673913 0.73804348 0.75471014 0.75507246\n",
      " 0.68768116 0.72101449 0.72971014 0.77210145 0.77210145 0.77210145\n",
      "        nan        nan        nan        nan        nan        nan\n",
      "        nan        nan        nan 0.6615942  0.65507246 0.72210145\n",
      " 0.67282609 0.6884058  0.71376812 0.70362319 0.70362319 0.75543478\n",
      " 0.70507246 0.72971014 0.72065217 0.73007246 0.7634058  0.70362319\n",
      " 0.7634058  0.7634058  0.7634058         nan        nan        nan\n",
      "        nan        nan        nan        nan        nan        nan\n",
      " 0.67934783 0.67137681 0.72210145 0.62101449 0.67971014 0.71376812\n",
      " 0.70362319 0.70362319 0.75543478 0.72137681 0.75471014 0.72065217\n",
      " 0.70434783 0.7634058  0.70362319 0.7634058  0.7634058  0.7634058\n",
      "        nan        nan        nan        nan        nan        nan\n",
      "        nan        nan        nan 0.69637681 0.68007246 0.72210145\n",
      " 0.62101449 0.67971014 0.71376812 0.70362319 0.70362319 0.75543478\n",
      " 0.72137681 0.75471014 0.72065217 0.70434783 0.7634058  0.70362319\n",
      " 0.7634058  0.7634058  0.7634058         nan        nan        nan\n",
      "        nan        nan        nan        nan        nan        nan\n",
      " 0.68586957 0.68586957 0.66086957 0.68586957 0.68586957 0.66086957\n",
      " 0.68586957 0.68586957 0.66086957 0.71304348 0.71304348 0.72137681\n",
      " 0.71304348 0.71304348 0.72137681 0.71231884 0.71231884 0.71231884\n",
      "        nan        nan        nan        nan        nan        nan\n",
      "        nan        nan        nan 0.69492754 0.65326087 0.70362319\n",
      " 0.65326087 0.67028986 0.71195652 0.66086957 0.66086957 0.6942029\n",
      " 0.68731884 0.69565217 0.69492754 0.65217391 0.66050725 0.72101449\n",
      " 0.72971014 0.72971014 0.69528986        nan        nan        nan\n",
      "        nan        nan        nan        nan        nan        nan\n",
      " 0.66268116 0.67028986 0.68695652 0.61268116 0.66195652 0.66195652\n",
      " 0.62717391 0.62717391 0.67789855 0.67862319 0.67789855 0.69492754\n",
      " 0.67826087 0.65253623 0.72101449 0.72971014 0.72971014 0.69528986\n",
      "        nan        nan        nan        nan        nan        nan\n",
      "        nan        nan        nan 0.66268116 0.64528986 0.68695652\n",
      " 0.5865942  0.65362319 0.67862319 0.62717391 0.62717391 0.67789855\n",
      " 0.69528986 0.67789855 0.69492754 0.67826087 0.65253623 0.72101449\n",
      " 0.72971014 0.72971014 0.69528986        nan        nan        nan\n",
      "        nan        nan        nan        nan        nan        nan\n",
      " 0.67101449 0.64528986 0.68695652 0.5865942  0.65362319 0.67862319\n",
      " 0.62717391 0.62717391 0.67789855 0.69528986 0.67789855 0.69492754\n",
      " 0.67826087 0.65253623 0.72101449 0.72971014 0.72971014 0.69528986]\n",
      "  warnings.warn(\n"
     ]
    },
    {
     "name": "stdout",
     "output_type": "stream",
     "text": [
      "Best Parameters: {'criterion': 'gini', 'max_depth': 5, 'max_features': None, 'min_samples_leaf': 4, 'min_samples_split': 2}\n",
      "Best Score: 0.7721014492753623\n",
      "Tuned Decision Tree Accuracy: 0.6333333333333333\n",
      "Tuned Decision Tree Classification Report:\n",
      "               precision    recall  f1-score   support\n",
      "\n",
      "      Buffet       0.00      0.00      0.00         0\n",
      "       Cafes       0.50      0.22      0.31         9\n",
      "      Dining       0.77      0.85      0.81        20\n",
      "       other       0.00      0.00      0.00         1\n",
      "\n",
      "    accuracy                           0.63        30\n",
      "   macro avg       0.32      0.27      0.28        30\n",
      "weighted avg       0.67      0.63      0.63        30\n",
      "\n"
     ]
    },
    {
     "name": "stderr",
     "output_type": "stream",
     "text": [
      "C:\\Users\\TANMAY\\AppData\\Local\\Programs\\Python\\Python312\\Lib\\site-packages\\sklearn\\metrics\\_classification.py:1565: UndefinedMetricWarning: Recall is ill-defined and being set to 0.0 in labels with no true samples. Use `zero_division` parameter to control this behavior.\n",
      "  _warn_prf(average, modifier, f\"{metric.capitalize()} is\", len(result))\n",
      "C:\\Users\\TANMAY\\AppData\\Local\\Programs\\Python\\Python312\\Lib\\site-packages\\sklearn\\metrics\\_classification.py:1565: UndefinedMetricWarning: Recall is ill-defined and being set to 0.0 in labels with no true samples. Use `zero_division` parameter to control this behavior.\n",
      "  _warn_prf(average, modifier, f\"{metric.capitalize()} is\", len(result))\n",
      "C:\\Users\\TANMAY\\AppData\\Local\\Programs\\Python\\Python312\\Lib\\site-packages\\sklearn\\metrics\\_classification.py:1565: UndefinedMetricWarning: Recall is ill-defined and being set to 0.0 in labels with no true samples. Use `zero_division` parameter to control this behavior.\n",
      "  _warn_prf(average, modifier, f\"{metric.capitalize()} is\", len(result))\n"
     ]
    }
   ],
   "source": [
    "# Define the parameter grid\n",
    "param_grid = {\n",
    "    'max_depth': [3, 5, 7, 10, None],\n",
    "    'min_samples_split': [2, 5, 10],\n",
    "    'min_samples_leaf': [1, 2, 4],\n",
    "    'max_features': ['auto', 'sqrt', None],\n",
    "    'criterion': ['gini', 'entropy']\n",
    "}\n",
    "\n",
    "# Create a Decision Tree classifier\n",
    "dt_classifier = DecisionTreeClassifier(random_state=42)\n",
    "\n",
    "# Perform grid search\n",
    "grid_search = GridSearchCV(dt_classifier, param_grid, cv=5, scoring='accuracy')\n",
    "grid_search.fit(X_train, y_train)\n",
    "\n",
    "# Get the best parameters and best score\n",
    "best_params = grid_search.best_params_\n",
    "best_score = grid_search.best_score_\n",
    "\n",
    "print(\"Best Parameters:\", best_params)\n",
    "print(\"Best Score:\", best_score)\n",
    "\n",
    "# Train the model with the best parameters\n",
    "best_dt_classifier = DecisionTreeClassifier(**best_params, random_state=42)\n",
    "best_dt_classifier.fit(X_train, y_train)\n",
    "dt_predictions = best_dt_classifier.predict(X_test)\n",
    "print(\"Tuned Decision Tree Accuracy:\", accuracy_score(y_test, dt_predictions))\n",
    "print(\"Tuned Decision Tree Classification Report:\\n\", classification_report(y_test, dt_predictions))"
   ]
  },
  {
   "cell_type": "code",
   "execution_count": 65,
   "id": "f9258f47-9573-4ec3-be71-ab6316f83614",
   "metadata": {
    "scrolled": true
   },
   "outputs": [
    {
     "name": "stderr",
     "output_type": "stream",
     "text": [
      "C:\\Users\\TANMAY\\AppData\\Local\\Programs\\Python\\Python312\\Lib\\site-packages\\sklearn\\model_selection\\_validation.py:528: FitFailedWarning: \n",
      "2160 fits failed out of a total of 4320.\n",
      "The score on these train-test partitions for these parameters will be set to nan.\n",
      "If these failures are not expected, you can try to debug them by setting error_score='raise'.\n",
      "\n",
      "Below are more details about the failures:\n",
      "--------------------------------------------------------------------------------\n",
      "2160 fits failed with the following error:\n",
      "Traceback (most recent call last):\n",
      "  File \"C:\\Users\\TANMAY\\AppData\\Local\\Programs\\Python\\Python312\\Lib\\site-packages\\sklearn\\model_selection\\_validation.py\", line 866, in _fit_and_score\n",
      "    estimator.fit(X_train, y_train, **fit_params)\n",
      "  File \"C:\\Users\\TANMAY\\AppData\\Local\\Programs\\Python\\Python312\\Lib\\site-packages\\sklearn\\base.py\", line 1382, in wrapper\n",
      "    estimator._validate_params()\n",
      "  File \"C:\\Users\\TANMAY\\AppData\\Local\\Programs\\Python\\Python312\\Lib\\site-packages\\sklearn\\base.py\", line 436, in _validate_params\n",
      "    validate_parameter_constraints(\n",
      "  File \"C:\\Users\\TANMAY\\AppData\\Local\\Programs\\Python\\Python312\\Lib\\site-packages\\sklearn\\utils\\_param_validation.py\", line 98, in validate_parameter_constraints\n",
      "    raise InvalidParameterError(\n",
      "sklearn.utils._param_validation.InvalidParameterError: The 'max_features' parameter of RandomForestClassifier must be an int in the range [1, inf), a float in the range (0.0, 1.0], a str among {'sqrt', 'log2'} or None. Got 'auto' instead.\n",
      "\n",
      "  warnings.warn(some_fits_failed_message, FitFailedWarning)\n",
      "C:\\Users\\TANMAY\\AppData\\Local\\Programs\\Python\\Python312\\Lib\\site-packages\\sklearn\\model_selection\\_search.py:1108: UserWarning: One or more of the test scores are non-finite: [       nan        nan        nan        nan        nan        nan\n",
      "        nan        nan        nan        nan        nan        nan\n",
      "        nan        nan        nan        nan        nan        nan\n",
      "        nan        nan        nan        nan        nan        nan\n",
      "        nan        nan        nan 0.76304348 0.75471014 0.75471014\n",
      " 0.75471014 0.75471014 0.75471014 0.75471014 0.75471014 0.76304348\n",
      " 0.77137681 0.77137681 0.77137681 0.77137681 0.77137681 0.77137681\n",
      " 0.76304348 0.76304348 0.77137681 0.76304348 0.76304348 0.76304348\n",
      " 0.76304348 0.76304348 0.76304348 0.76304348 0.76304348 0.76304348\n",
      "        nan        nan        nan        nan        nan        nan\n",
      "        nan        nan        nan        nan        nan        nan\n",
      "        nan        nan        nan        nan        nan        nan\n",
      "        nan        nan        nan        nan        nan        nan\n",
      "        nan        nan        nan 0.77173913 0.75507246 0.78007246\n",
      " 0.77137681 0.76304348 0.76304348 0.75471014 0.76304348 0.77137681\n",
      " 0.75471014 0.75471014 0.77137681 0.76304348 0.76304348 0.77137681\n",
      " 0.77137681 0.77137681 0.78007246 0.76304348 0.76304348 0.76304348\n",
      " 0.76304348 0.76304348 0.76304348 0.76304348 0.76304348 0.76304348\n",
      "        nan        nan        nan        nan        nan        nan\n",
      "        nan        nan        nan        nan        nan        nan\n",
      "        nan        nan        nan        nan        nan        nan\n",
      "        nan        nan        nan        nan        nan        nan\n",
      "        nan        nan        nan 0.77173913 0.77173913 0.7634058\n",
      " 0.76304348 0.77137681 0.77137681 0.76304348 0.76304348 0.77137681\n",
      " 0.77137681 0.77137681 0.77137681 0.76304348 0.77137681 0.77137681\n",
      " 0.77137681 0.77137681 0.78007246 0.76304348 0.76304348 0.76304348\n",
      " 0.76304348 0.76304348 0.76304348 0.76304348 0.76304348 0.76304348\n",
      "        nan        nan        nan        nan        nan        nan\n",
      "        nan        nan        nan        nan        nan        nan\n",
      "        nan        nan        nan        nan        nan        nan\n",
      "        nan        nan        nan        nan        nan        nan\n",
      "        nan        nan        nan 0.7634058  0.7884058  0.77173913\n",
      " 0.75471014 0.76304348 0.76304348 0.76304348 0.76304348 0.77137681\n",
      " 0.76304348 0.76304348 0.77137681 0.76304348 0.77137681 0.77137681\n",
      " 0.77137681 0.77137681 0.78007246 0.76304348 0.76304348 0.76304348\n",
      " 0.76304348 0.76304348 0.76304348 0.76304348 0.76304348 0.76304348\n",
      "        nan        nan        nan        nan        nan        nan\n",
      "        nan        nan        nan        nan        nan        nan\n",
      "        nan        nan        nan        nan        nan        nan\n",
      "        nan        nan        nan        nan        nan        nan\n",
      "        nan        nan        nan 0.77137681 0.76304348 0.76304348\n",
      " 0.77137681 0.76304348 0.77137681 0.77137681 0.77137681 0.76304348\n",
      " 0.77137681 0.77137681 0.77137681 0.77137681 0.77137681 0.77137681\n",
      " 0.77137681 0.77137681 0.77137681 0.77137681 0.77137681 0.77137681\n",
      " 0.77137681 0.77137681 0.77137681 0.76304348 0.76304348 0.76304348\n",
      "        nan        nan        nan        nan        nan        nan\n",
      "        nan        nan        nan        nan        nan        nan\n",
      "        nan        nan        nan        nan        nan        nan\n",
      "        nan        nan        nan        nan        nan        nan\n",
      "        nan        nan        nan 0.7634058  0.77173913 0.76304348\n",
      " 0.75471014 0.76304348 0.76304348 0.75471014 0.77137681 0.78007246\n",
      " 0.76304348 0.76304348 0.76304348 0.77137681 0.76304348 0.76304348\n",
      " 0.77137681 0.77137681 0.78007246 0.77137681 0.77137681 0.77137681\n",
      " 0.77137681 0.77137681 0.77137681 0.77137681 0.77137681 0.77137681\n",
      "        nan        nan        nan        nan        nan        nan\n",
      "        nan        nan        nan        nan        nan        nan\n",
      "        nan        nan        nan        nan        nan        nan\n",
      "        nan        nan        nan        nan        nan        nan\n",
      "        nan        nan        nan 0.74673913 0.75507246 0.75507246\n",
      " 0.75471014 0.76304348 0.76304348 0.76304348 0.76304348 0.78007246\n",
      " 0.76304348 0.77137681 0.77137681 0.77137681 0.77137681 0.76304348\n",
      " 0.77137681 0.77137681 0.78007246 0.76304348 0.77137681 0.77137681\n",
      " 0.76304348 0.77137681 0.77137681 0.77137681 0.77137681 0.77137681\n",
      "        nan        nan        nan        nan        nan        nan\n",
      "        nan        nan        nan        nan        nan        nan\n",
      "        nan        nan        nan        nan        nan        nan\n",
      "        nan        nan        nan        nan        nan        nan\n",
      "        nan        nan        nan 0.77173913 0.75507246 0.75507246\n",
      " 0.75471014 0.76304348 0.76304348 0.76304348 0.76304348 0.78007246\n",
      " 0.76304348 0.77137681 0.77137681 0.77137681 0.77137681 0.76304348\n",
      " 0.77137681 0.77137681 0.78007246 0.76304348 0.77137681 0.77137681\n",
      " 0.76304348 0.77137681 0.77137681 0.77137681 0.77137681 0.77137681\n",
      "        nan        nan        nan        nan        nan        nan\n",
      "        nan        nan        nan        nan        nan        nan\n",
      "        nan        nan        nan        nan        nan        nan\n",
      "        nan        nan        nan        nan        nan        nan\n",
      "        nan        nan        nan 0.77173913 0.77173913 0.77173913\n",
      " 0.7634058  0.77173913 0.77173913 0.77173913 0.78007246 0.78007246\n",
      " 0.77173913 0.77173913 0.77173913 0.78007246 0.78007246 0.78007246\n",
      " 0.78007246 0.78007246 0.78007246 0.76304348 0.76304348 0.76304348\n",
      " 0.76304348 0.76304348 0.76304348 0.77173913 0.77173913 0.77173913\n",
      "        nan        nan        nan        nan        nan        nan\n",
      "        nan        nan        nan        nan        nan        nan\n",
      "        nan        nan        nan        nan        nan        nan\n",
      "        nan        nan        nan        nan        nan        nan\n",
      "        nan        nan        nan 0.75507246 0.77173913 0.77173913\n",
      " 0.77210145 0.76376812 0.78043478 0.77173913 0.7634058  0.7634058\n",
      " 0.78876812 0.7634058  0.77173913 0.77173913 0.7634058  0.77173913\n",
      " 0.77173913 0.77173913 0.77173913 0.78007246 0.77173913 0.77173913\n",
      " 0.78007246 0.77173913 0.77173913 0.77173913 0.77173913 0.77173913\n",
      "        nan        nan        nan        nan        nan        nan\n",
      "        nan        nan        nan        nan        nan        nan\n",
      "        nan        nan        nan        nan        nan        nan\n",
      "        nan        nan        nan        nan        nan        nan\n",
      "        nan        nan        nan 0.75507246 0.75507246 0.75507246\n",
      " 0.74710145 0.75543478 0.76376812 0.78876812 0.77210145 0.78043478\n",
      " 0.75507246 0.75507246 0.75543478 0.76376812 0.75543478 0.75543478\n",
      " 0.7634058  0.77173913 0.77173913 0.77173913 0.77173913 0.77173913\n",
      " 0.77173913 0.77173913 0.77173913 0.77173913 0.77173913 0.77173913\n",
      "        nan        nan        nan        nan        nan        nan\n",
      "        nan        nan        nan        nan        nan        nan\n",
      "        nan        nan        nan        nan        nan        nan\n",
      "        nan        nan        nan        nan        nan        nan\n",
      "        nan        nan        nan 0.75507246 0.75507246 0.74673913\n",
      " 0.76376812 0.74710145 0.75543478 0.78876812 0.77210145 0.78043478\n",
      " 0.75507246 0.7634058  0.75507246 0.75543478 0.75543478 0.74710145\n",
      " 0.7634058  0.7634058  0.77173913 0.77173913 0.77173913 0.77173913\n",
      " 0.77173913 0.77173913 0.77173913 0.77173913 0.77173913 0.77173913\n",
      "        nan        nan        nan        nan        nan        nan\n",
      "        nan        nan        nan        nan        nan        nan\n",
      "        nan        nan        nan        nan        nan        nan\n",
      "        nan        nan        nan        nan        nan        nan\n",
      "        nan        nan        nan 0.77173913 0.77173913 0.77173913\n",
      " 0.77173913 0.77173913 0.77173913 0.78007246 0.78007246 0.78007246\n",
      " 0.77173913 0.77173913 0.77173913 0.77173913 0.78007246 0.78007246\n",
      " 0.78007246 0.78007246 0.78007246 0.76304348 0.77137681 0.76304348\n",
      " 0.76304348 0.77137681 0.76304348 0.77173913 0.78007246 0.78007246\n",
      "        nan        nan        nan        nan        nan        nan\n",
      "        nan        nan        nan        nan        nan        nan\n",
      "        nan        nan        nan        nan        nan        nan\n",
      "        nan        nan        nan        nan        nan        nan\n",
      "        nan        nan        nan 0.75507246 0.75471014 0.7634058\n",
      " 0.76304348 0.75507246 0.7634058  0.77173913 0.7634058  0.7634058\n",
      " 0.75471014 0.75471014 0.76304348 0.74637681 0.77173913 0.77173913\n",
      " 0.78007246 0.77173913 0.78007246 0.77137681 0.77137681 0.77137681\n",
      " 0.77137681 0.77137681 0.77137681 0.78007246 0.78007246 0.78007246\n",
      "        nan        nan        nan        nan        nan        nan\n",
      "        nan        nan        nan        nan        nan        nan\n",
      "        nan        nan        nan        nan        nan        nan\n",
      "        nan        nan        nan        nan        nan        nan\n",
      "        nan        nan        nan 0.74673913 0.7384058  0.75507246\n",
      " 0.76376812 0.76376812 0.76376812 0.77173913 0.7634058  0.77173913\n",
      " 0.73804348 0.75471014 0.75507246 0.74673913 0.75507246 0.74673913\n",
      " 0.78007246 0.77173913 0.77173913 0.77137681 0.77137681 0.77137681\n",
      " 0.77137681 0.77137681 0.77137681 0.78007246 0.78007246 0.78007246\n",
      "        nan        nan        nan        nan        nan        nan\n",
      "        nan        nan        nan        nan        nan        nan\n",
      "        nan        nan        nan        nan        nan        nan\n",
      "        nan        nan        nan        nan        nan        nan\n",
      "        nan        nan        nan 0.77210145 0.75543478 0.75543478\n",
      " 0.76376812 0.75507246 0.7634058  0.7634058  0.75507246 0.77173913\n",
      " 0.7634058  0.7634058  0.7634058  0.74673913 0.74673913 0.74673913\n",
      " 0.78007246 0.77173913 0.78007246 0.76304348 0.77137681 0.77137681\n",
      " 0.76304348 0.77137681 0.77137681 0.78007246 0.78007246 0.78007246]\n",
      "  warnings.warn(\n"
     ]
    },
    {
     "name": "stdout",
     "output_type": "stream",
     "text": [
      "Best Parameters: {'bootstrap': False, 'criterion': 'gini', 'max_depth': 5, 'max_features': 'sqrt', 'min_samples_leaf': 2, 'min_samples_split': 2, 'n_estimators': 50}\n",
      "Best Score: 0.788768115942029\n",
      "Tuned Random Forest Accuracy: 0.6\n",
      "Tuned Random Forest Classification Report:\n",
      "               precision    recall  f1-score   support\n",
      "\n",
      "      Buffet       0.00      0.00      0.00         0\n",
      "       Cafes       0.33      0.11      0.17         9\n",
      "      Dining       0.68      0.85      0.76        20\n",
      "       other       0.00      0.00      0.00         1\n",
      "\n",
      "    accuracy                           0.60        30\n",
      "   macro avg       0.25      0.24      0.23        30\n",
      "weighted avg       0.55      0.60      0.55        30\n",
      "\n"
     ]
    },
    {
     "name": "stderr",
     "output_type": "stream",
     "text": [
      "C:\\Users\\TANMAY\\AppData\\Local\\Programs\\Python\\Python312\\Lib\\site-packages\\sklearn\\metrics\\_classification.py:1565: UndefinedMetricWarning: Recall is ill-defined and being set to 0.0 in labels with no true samples. Use `zero_division` parameter to control this behavior.\n",
      "  _warn_prf(average, modifier, f\"{metric.capitalize()} is\", len(result))\n",
      "C:\\Users\\TANMAY\\AppData\\Local\\Programs\\Python\\Python312\\Lib\\site-packages\\sklearn\\metrics\\_classification.py:1565: UndefinedMetricWarning: Recall is ill-defined and being set to 0.0 in labels with no true samples. Use `zero_division` parameter to control this behavior.\n",
      "  _warn_prf(average, modifier, f\"{metric.capitalize()} is\", len(result))\n",
      "C:\\Users\\TANMAY\\AppData\\Local\\Programs\\Python\\Python312\\Lib\\site-packages\\sklearn\\metrics\\_classification.py:1565: UndefinedMetricWarning: Recall is ill-defined and being set to 0.0 in labels with no true samples. Use `zero_division` parameter to control this behavior.\n",
      "  _warn_prf(average, modifier, f\"{metric.capitalize()} is\", len(result))\n"
     ]
    }
   ],
   "source": [
    "# Define the parameter grid\n",
    "param_grid = {\n",
    "    'n_estimators': [50, 100, 200],\n",
    "    'max_depth': [3, 5, 7, None],\n",
    "    'min_samples_split': [2, 5, 10],\n",
    "    'min_samples_leaf': [1, 2, 4],\n",
    "    'max_features': ['auto', 'sqrt'],\n",
    "    'bootstrap': [True, False],\n",
    "    'criterion': ['gini', 'entropy']\n",
    "}\n",
    "\n",
    "# Create a Random Forest classifier\n",
    "rf_classifier = RandomForestClassifier(random_state=42)\n",
    "\n",
    "# Perform grid search\n",
    "grid_search = GridSearchCV(rf_classifier, param_grid, cv=5, scoring='accuracy')\n",
    "grid_search.fit(X_train, y_train)\n",
    "\n",
    "# Get the best parameters and best score\n",
    "best_params = grid_search.best_params_\n",
    "best_score = grid_search.best_score_\n",
    "\n",
    "print(\"Best Parameters:\", best_params)\n",
    "print(\"Best Score:\", best_score)\n",
    "\n",
    "# Train the model with the best parameters\n",
    "best_rf_classifier = RandomForestClassifier(**best_params, random_state=42)\n",
    "best_rf_classifier.fit(X_train, y_train)\n",
    "rf_predictions = best_rf_classifier.predict(X_test)\n",
    "print(\"Tuned Random Forest Accuracy:\", accuracy_score(y_test, rf_predictions))\n",
    "print(\"Tuned Random Forest Classification Report:\\n\", classification_report(y_test, rf_predictions))"
   ]
  },
  {
   "cell_type": "code",
   "execution_count": null,
   "id": "b46718b1-1b2d-409a-a0c2-bc21d5dd9041",
   "metadata": {},
   "outputs": [],
   "source": []
  }
 ],
 "metadata": {
  "kernelspec": {
   "display_name": "Python 3 (ipykernel)",
   "language": "python",
   "name": "python3"
  },
  "language_info": {
   "codemirror_mode": {
    "name": "ipython",
    "version": 3
   },
   "file_extension": ".py",
   "mimetype": "text/x-python",
   "name": "python",
   "nbconvert_exporter": "python",
   "pygments_lexer": "ipython3",
   "version": "3.12.4"
  }
 },
 "nbformat": 4,
 "nbformat_minor": 5
}
